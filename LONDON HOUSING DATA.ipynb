{
 "cells": [
  {
   "cell_type": "code",
   "execution_count": 4,
   "id": "8d7cddd6",
   "metadata": {},
   "outputs": [],
   "source": [
    "import pandas as pd \n",
    "import numpy as np \n",
    "import matplotlib.pyplot as plt \n",
    "london =pd.read_csv(r\"C:\\Users\\manpr\\OneDrive\\Desktop\\archive\\London Housing Data.csv\")\n"
   ]
  },
  {
   "cell_type": "code",
   "execution_count": 5,
   "id": "e86059cf",
   "metadata": {},
   "outputs": [
    {
     "data": {
      "text/html": [
       "<div>\n",
       "<style scoped>\n",
       "    .dataframe tbody tr th:only-of-type {\n",
       "        vertical-align: middle;\n",
       "    }\n",
       "\n",
       "    .dataframe tbody tr th {\n",
       "        vertical-align: top;\n",
       "    }\n",
       "\n",
       "    .dataframe thead th {\n",
       "        text-align: right;\n",
       "    }\n",
       "</style>\n",
       "<table border=\"1\" class=\"dataframe\">\n",
       "  <thead>\n",
       "    <tr style=\"text-align: right;\">\n",
       "      <th></th>\n",
       "      <th>date</th>\n",
       "      <th>area</th>\n",
       "      <th>average_price</th>\n",
       "      <th>code</th>\n",
       "      <th>houses_sold</th>\n",
       "      <th>no_of_crimes</th>\n",
       "    </tr>\n",
       "  </thead>\n",
       "  <tbody>\n",
       "    <tr>\n",
       "      <th>0</th>\n",
       "      <td>1/1/1995</td>\n",
       "      <td>city of london</td>\n",
       "      <td>91449</td>\n",
       "      <td>E09000001</td>\n",
       "      <td>17.0</td>\n",
       "      <td>NaN</td>\n",
       "    </tr>\n",
       "    <tr>\n",
       "      <th>1</th>\n",
       "      <td>2/1/1995</td>\n",
       "      <td>city of london</td>\n",
       "      <td>82203</td>\n",
       "      <td>E09000001</td>\n",
       "      <td>7.0</td>\n",
       "      <td>NaN</td>\n",
       "    </tr>\n",
       "    <tr>\n",
       "      <th>2</th>\n",
       "      <td>3/1/1995</td>\n",
       "      <td>city of london</td>\n",
       "      <td>79121</td>\n",
       "      <td>E09000001</td>\n",
       "      <td>14.0</td>\n",
       "      <td>NaN</td>\n",
       "    </tr>\n",
       "    <tr>\n",
       "      <th>3</th>\n",
       "      <td>4/1/1995</td>\n",
       "      <td>city of london</td>\n",
       "      <td>77101</td>\n",
       "      <td>E09000001</td>\n",
       "      <td>7.0</td>\n",
       "      <td>NaN</td>\n",
       "    </tr>\n",
       "    <tr>\n",
       "      <th>4</th>\n",
       "      <td>5/1/1995</td>\n",
       "      <td>city of london</td>\n",
       "      <td>84409</td>\n",
       "      <td>E09000001</td>\n",
       "      <td>10.0</td>\n",
       "      <td>NaN</td>\n",
       "    </tr>\n",
       "    <tr>\n",
       "      <th>...</th>\n",
       "      <td>...</td>\n",
       "      <td>...</td>\n",
       "      <td>...</td>\n",
       "      <td>...</td>\n",
       "      <td>...</td>\n",
       "      <td>...</td>\n",
       "    </tr>\n",
       "    <tr>\n",
       "      <th>13544</th>\n",
       "      <td>9/1/2019</td>\n",
       "      <td>england</td>\n",
       "      <td>249942</td>\n",
       "      <td>E92000001</td>\n",
       "      <td>64605.0</td>\n",
       "      <td>NaN</td>\n",
       "    </tr>\n",
       "    <tr>\n",
       "      <th>13545</th>\n",
       "      <td>10/1/2019</td>\n",
       "      <td>england</td>\n",
       "      <td>249376</td>\n",
       "      <td>E92000001</td>\n",
       "      <td>68677.0</td>\n",
       "      <td>NaN</td>\n",
       "    </tr>\n",
       "    <tr>\n",
       "      <th>13546</th>\n",
       "      <td>11/1/2019</td>\n",
       "      <td>england</td>\n",
       "      <td>248515</td>\n",
       "      <td>E92000001</td>\n",
       "      <td>67814.0</td>\n",
       "      <td>NaN</td>\n",
       "    </tr>\n",
       "    <tr>\n",
       "      <th>13547</th>\n",
       "      <td>12/1/2019</td>\n",
       "      <td>england</td>\n",
       "      <td>250410</td>\n",
       "      <td>E92000001</td>\n",
       "      <td>NaN</td>\n",
       "      <td>NaN</td>\n",
       "    </tr>\n",
       "    <tr>\n",
       "      <th>13548</th>\n",
       "      <td>1/1/2020</td>\n",
       "      <td>england</td>\n",
       "      <td>247355</td>\n",
       "      <td>E92000001</td>\n",
       "      <td>NaN</td>\n",
       "      <td>NaN</td>\n",
       "    </tr>\n",
       "  </tbody>\n",
       "</table>\n",
       "<p>13549 rows × 6 columns</p>\n",
       "</div>"
      ],
      "text/plain": [
       "            date            area  average_price       code  houses_sold  \\\n",
       "0       1/1/1995  city of london          91449  E09000001         17.0   \n",
       "1       2/1/1995  city of london          82203  E09000001          7.0   \n",
       "2       3/1/1995  city of london          79121  E09000001         14.0   \n",
       "3       4/1/1995  city of london          77101  E09000001          7.0   \n",
       "4       5/1/1995  city of london          84409  E09000001         10.0   \n",
       "...          ...             ...            ...        ...          ...   \n",
       "13544   9/1/2019         england         249942  E92000001      64605.0   \n",
       "13545  10/1/2019         england         249376  E92000001      68677.0   \n",
       "13546  11/1/2019         england         248515  E92000001      67814.0   \n",
       "13547  12/1/2019         england         250410  E92000001          NaN   \n",
       "13548   1/1/2020         england         247355  E92000001          NaN   \n",
       "\n",
       "       no_of_crimes  \n",
       "0               NaN  \n",
       "1               NaN  \n",
       "2               NaN  \n",
       "3               NaN  \n",
       "4               NaN  \n",
       "...             ...  \n",
       "13544           NaN  \n",
       "13545           NaN  \n",
       "13546           NaN  \n",
       "13547           NaN  \n",
       "13548           NaN  \n",
       "\n",
       "[13549 rows x 6 columns]"
      ]
     },
     "execution_count": 5,
     "metadata": {},
     "output_type": "execute_result"
    }
   ],
   "source": [
    "london"
   ]
  },
  {
   "cell_type": "code",
   "execution_count": 6,
   "id": "a5829c88",
   "metadata": {},
   "outputs": [
    {
     "data": {
      "text/plain": [
       "(13549, 6)"
      ]
     },
     "execution_count": 6,
     "metadata": {},
     "output_type": "execute_result"
    }
   ],
   "source": [
    "london.shape"
   ]
  },
  {
   "cell_type": "code",
   "execution_count": 15,
   "id": "79f8fd64",
   "metadata": {},
   "outputs": [
    {
     "name": "stdout",
     "output_type": "stream",
     "text": [
      "<class 'pandas.core.frame.DataFrame'>\n",
      "RangeIndex: 13549 entries, 0 to 13548\n",
      "Data columns (total 6 columns):\n",
      " #   Column         Non-Null Count  Dtype         \n",
      "---  ------         --------------  -----         \n",
      " 0   date           13549 non-null  datetime64[ns]\n",
      " 1   area           13549 non-null  object        \n",
      " 2   average_price  13549 non-null  int64         \n",
      " 3   code           13549 non-null  object        \n",
      " 4   houses_sold    13455 non-null  float64       \n",
      " 5   no_of_crimes   7439 non-null   float64       \n",
      "dtypes: datetime64[ns](1), float64(2), int64(1), object(2)\n",
      "memory usage: 635.2+ KB\n"
     ]
    }
   ],
   "source": [
    "london.info()"
   ]
  },
  {
   "cell_type": "code",
   "execution_count": 14,
   "id": "dcddc464",
   "metadata": {},
   "outputs": [],
   "source": [
    "### changing d-type of date column in dataset\n",
    "\n",
    "london.date=pd.to_datetime(london.date)"
   ]
  },
  {
   "cell_type": "code",
   "execution_count": 11,
   "id": "1404cd0e",
   "metadata": {},
   "outputs": [
    {
     "data": {
      "text/plain": [
       "date                0\n",
       "area                0\n",
       "average_price       0\n",
       "code                0\n",
       "houses_sold        94\n",
       "no_of_crimes     6110\n",
       "dtype: int64"
      ]
     },
     "execution_count": 11,
     "metadata": {},
     "output_type": "execute_result"
    }
   ],
   "source": [
    "london.isnull().sum()"
   ]
  },
  {
   "cell_type": "code",
   "execution_count": 16,
   "id": "bdabf7a8",
   "metadata": {},
   "outputs": [
    {
     "data": {
      "text/html": [
       "<div>\n",
       "<style scoped>\n",
       "    .dataframe tbody tr th:only-of-type {\n",
       "        vertical-align: middle;\n",
       "    }\n",
       "\n",
       "    .dataframe tbody tr th {\n",
       "        vertical-align: top;\n",
       "    }\n",
       "\n",
       "    .dataframe thead th {\n",
       "        text-align: right;\n",
       "    }\n",
       "</style>\n",
       "<table border=\"1\" class=\"dataframe\">\n",
       "  <thead>\n",
       "    <tr style=\"text-align: right;\">\n",
       "      <th></th>\n",
       "      <th>date</th>\n",
       "      <th>area</th>\n",
       "      <th>average_price</th>\n",
       "      <th>code</th>\n",
       "      <th>houses_sold</th>\n",
       "      <th>no_of_crimes</th>\n",
       "    </tr>\n",
       "  </thead>\n",
       "  <tbody>\n",
       "    <tr>\n",
       "      <th>0</th>\n",
       "      <td>1995-01-01</td>\n",
       "      <td>city of london</td>\n",
       "      <td>91449</td>\n",
       "      <td>E09000001</td>\n",
       "      <td>17.0</td>\n",
       "      <td>NaN</td>\n",
       "    </tr>\n",
       "    <tr>\n",
       "      <th>1</th>\n",
       "      <td>1995-02-01</td>\n",
       "      <td>city of london</td>\n",
       "      <td>82203</td>\n",
       "      <td>E09000001</td>\n",
       "      <td>7.0</td>\n",
       "      <td>NaN</td>\n",
       "    </tr>\n",
       "    <tr>\n",
       "      <th>2</th>\n",
       "      <td>1995-03-01</td>\n",
       "      <td>city of london</td>\n",
       "      <td>79121</td>\n",
       "      <td>E09000001</td>\n",
       "      <td>14.0</td>\n",
       "      <td>NaN</td>\n",
       "    </tr>\n",
       "    <tr>\n",
       "      <th>3</th>\n",
       "      <td>1995-04-01</td>\n",
       "      <td>city of london</td>\n",
       "      <td>77101</td>\n",
       "      <td>E09000001</td>\n",
       "      <td>7.0</td>\n",
       "      <td>NaN</td>\n",
       "    </tr>\n",
       "    <tr>\n",
       "      <th>4</th>\n",
       "      <td>1995-05-01</td>\n",
       "      <td>city of london</td>\n",
       "      <td>84409</td>\n",
       "      <td>E09000001</td>\n",
       "      <td>10.0</td>\n",
       "      <td>NaN</td>\n",
       "    </tr>\n",
       "    <tr>\n",
       "      <th>5</th>\n",
       "      <td>1995-06-01</td>\n",
       "      <td>city of london</td>\n",
       "      <td>94901</td>\n",
       "      <td>E09000001</td>\n",
       "      <td>17.0</td>\n",
       "      <td>NaN</td>\n",
       "    </tr>\n",
       "    <tr>\n",
       "      <th>6</th>\n",
       "      <td>1995-07-01</td>\n",
       "      <td>city of london</td>\n",
       "      <td>110128</td>\n",
       "      <td>E09000001</td>\n",
       "      <td>13.0</td>\n",
       "      <td>NaN</td>\n",
       "    </tr>\n",
       "    <tr>\n",
       "      <th>7</th>\n",
       "      <td>1995-08-01</td>\n",
       "      <td>city of london</td>\n",
       "      <td>112329</td>\n",
       "      <td>E09000001</td>\n",
       "      <td>14.0</td>\n",
       "      <td>NaN</td>\n",
       "    </tr>\n",
       "    <tr>\n",
       "      <th>8</th>\n",
       "      <td>1995-09-01</td>\n",
       "      <td>city of london</td>\n",
       "      <td>104473</td>\n",
       "      <td>E09000001</td>\n",
       "      <td>17.0</td>\n",
       "      <td>NaN</td>\n",
       "    </tr>\n",
       "    <tr>\n",
       "      <th>9</th>\n",
       "      <td>1995-10-01</td>\n",
       "      <td>city of london</td>\n",
       "      <td>108038</td>\n",
       "      <td>E09000001</td>\n",
       "      <td>14.0</td>\n",
       "      <td>NaN</td>\n",
       "    </tr>\n",
       "  </tbody>\n",
       "</table>\n",
       "</div>"
      ],
      "text/plain": [
       "        date            area  average_price       code  houses_sold  \\\n",
       "0 1995-01-01  city of london          91449  E09000001         17.0   \n",
       "1 1995-02-01  city of london          82203  E09000001          7.0   \n",
       "2 1995-03-01  city of london          79121  E09000001         14.0   \n",
       "3 1995-04-01  city of london          77101  E09000001          7.0   \n",
       "4 1995-05-01  city of london          84409  E09000001         10.0   \n",
       "5 1995-06-01  city of london          94901  E09000001         17.0   \n",
       "6 1995-07-01  city of london         110128  E09000001         13.0   \n",
       "7 1995-08-01  city of london         112329  E09000001         14.0   \n",
       "8 1995-09-01  city of london         104473  E09000001         17.0   \n",
       "9 1995-10-01  city of london         108038  E09000001         14.0   \n",
       "\n",
       "   no_of_crimes  \n",
       "0           NaN  \n",
       "1           NaN  \n",
       "2           NaN  \n",
       "3           NaN  \n",
       "4           NaN  \n",
       "5           NaN  \n",
       "6           NaN  \n",
       "7           NaN  \n",
       "8           NaN  \n",
       "9           NaN  "
      ]
     },
     "execution_count": 16,
     "metadata": {},
     "output_type": "execute_result"
    }
   ],
   "source": [
    "london.head(10)"
   ]
  },
  {
   "cell_type": "code",
   "execution_count": 19,
   "id": "ccb54e54",
   "metadata": {},
   "outputs": [],
   "source": [
    "### adding a new column 'year' into the dataset\n",
    "\n",
    "london['Year']=london.date.dt.year"
   ]
  },
  {
   "cell_type": "code",
   "execution_count": 20,
   "id": "a5a50970",
   "metadata": {},
   "outputs": [
    {
     "data": {
      "text/plain": [
       "1998    542\n",
       "1996    542\n",
       "1995    540\n",
       "2009    540\n",
       "2019    540\n",
       "2018    540\n",
       "2017    540\n",
       "2016    540\n",
       "2015    540\n",
       "2014    540\n",
       "2013    540\n",
       "2012    540\n",
       "2011    540\n",
       "2010    540\n",
       "2008    540\n",
       "2007    540\n",
       "2006    540\n",
       "2005    540\n",
       "2004    540\n",
       "2003    540\n",
       "2002    540\n",
       "2001    540\n",
       "2000    540\n",
       "1999    540\n",
       "1997    540\n",
       "2020     45\n",
       "Name: Year, dtype: int64"
      ]
     },
     "execution_count": 20,
     "metadata": {},
     "output_type": "execute_result"
    }
   ],
   "source": [
    "london['Year'].value_counts()"
   ]
  },
  {
   "cell_type": "code",
   "execution_count": 28,
   "id": "7c0c8e7f",
   "metadata": {},
   "outputs": [
    {
     "data": {
      "text/plain": [
       "Year\n",
       "1995     200722\n",
       "1996     223197\n",
       "1997     265112\n",
       "1998     277600\n",
       "1999     354241\n",
       "2000     397353\n",
       "2001     451028\n",
       "2002     497538\n",
       "2003     488704\n",
       "2004     559286\n",
       "2005     555847\n",
       "2006     644541\n",
       "2007     830950\n",
       "2008     832753\n",
       "2009     782459\n",
       "2010     884674\n",
       "2011     959520\n",
       "2012    1077366\n",
       "2013    1217729\n",
       "2014    1365050\n",
       "2015    1353679\n",
       "2016    1357231\n",
       "2017    1412255\n",
       "2018    1463378\n",
       "2019    1294113\n",
       "2020    1178166\n",
       "Name: average_price, dtype: int64"
      ]
     },
     "execution_count": 28,
     "metadata": {},
     "output_type": "execute_result"
    }
   ],
   "source": [
    "### maximum average price of house per year\n",
    "\n",
    "a=london.groupby('Year').average_price.max()\n",
    "a"
   ]
  },
  {
   "cell_type": "code",
   "execution_count": 29,
   "id": "a792f682",
   "metadata": {},
   "outputs": [
    {
     "data": {
      "image/png": "[encoded data removed]",
      "text/plain": [
       "<Figure size 640x480 with 1 Axes>"
      ]
     },
     "metadata": {},
     "output_type": "display_data"
    }
   ],
   "source": [
    "plt.plot(a)\n",
    "plt.show()"
   ]
  },
  {
   "cell_type": "code",
   "execution_count": 30,
   "id": "7a6dcee4",
   "metadata": {},
   "outputs": [
    {
     "data": {
      "text/plain": [
       "Year\n",
       "1995     41688\n",
       "1996     40722\n",
       "1997     42353\n",
       "1998     43510\n",
       "1999     43969\n",
       "2000     47604\n",
       "2001     49045\n",
       "2002     54746\n",
       "2003     67520\n",
       "2004     88520\n",
       "2005    110454\n",
       "2006    121124\n",
       "2007    131175\n",
       "2008    120275\n",
       "2009    117079\n",
       "2010    119688\n",
       "2011    115328\n",
       "2012    113011\n",
       "2013    112008\n",
       "2014    114531\n",
       "2015    117156\n",
       "2016    121085\n",
       "2017    121858\n",
       "2018    124038\n",
       "2019    124567\n",
       "2020    126592\n",
       "Name: average_price, dtype: int64"
      ]
     },
     "execution_count": 30,
     "metadata": {},
     "output_type": "execute_result"
    }
   ],
   "source": [
    "### minimum average price of house per year\n",
    "\n",
    "b=london.groupby('Year').average_price.min()\n",
    "b"
   ]
  },
  {
   "cell_type": "code",
   "execution_count": 31,
   "id": "1727378f",
   "metadata": {},
   "outputs": [
    {
     "data": {
      "image/png": "[encoded data removed]",
      "text/plain": [
       "<Figure size 640x480 with 1 Axes>"
      ]
     },
     "metadata": {},
     "output_type": "display_data"
    }
   ],
   "source": [
    "plt.plot(b)\n",
    "plt.show()"
   ]
  },
  {
   "cell_type": "code",
   "execution_count": 75,
   "id": "96af017b",
   "metadata": {},
   "outputs": [
    {
     "data": {
      "text/plain": [
       "104"
      ]
     },
     "execution_count": 75,
     "metadata": {},
     "output_type": "execute_result"
    }
   ],
   "source": [
    "### count areas where crimes is 0\n",
    "\n",
    "len(london[london['no_of_crimes'] == 0])"
   ]
  },
  {
   "cell_type": "code",
   "execution_count": 32,
   "id": "e8f8607b",
   "metadata": {},
   "outputs": [
    {
     "data": {
      "text/plain": [
       "Year\n",
       "1995       NaN\n",
       "1996       NaN\n",
       "1997       NaN\n",
       "1998       NaN\n",
       "1999       NaN\n",
       "2000       NaN\n",
       "2001    7002.0\n",
       "2002    7076.0\n",
       "2003    6149.0\n",
       "2004    6290.0\n",
       "2005    5753.0\n",
       "2006    5467.0\n",
       "2007    5509.0\n",
       "2008    5578.0\n",
       "2009    5703.0\n",
       "2010    5766.0\n",
       "2011    6106.0\n",
       "2012    5972.0\n",
       "2013    5047.0\n",
       "2014    4478.0\n",
       "2015    4561.0\n",
       "2016    4903.0\n",
       "2017    5198.0\n",
       "2018    6743.0\n",
       "2019    7461.0\n",
       "2020    6405.0\n",
       "Name: no_of_crimes, dtype: float64"
      ]
     },
     "execution_count": 32,
     "metadata": {},
     "output_type": "execute_result"
    }
   ],
   "source": [
    "### max no. of crimes per year\n",
    "\n",
    "london.groupby('Year').no_of_crimes.max()"
   ]
  },
  {
   "cell_type": "code",
   "execution_count": 33,
   "id": "a6a67d7d",
   "metadata": {},
   "outputs": [
    {
     "data": {
      "image/png": "[encoded data removed]",
      "text/plain": [
       "<Figure size 640x480 with 1 Axes>"
      ]
     },
     "metadata": {},
     "output_type": "display_data"
    }
   ],
   "source": [
    "plt.plot(london.groupby('Year').no_of_crimes.max())\n",
    "plt.show()"
   ]
  },
  {
   "cell_type": "code",
   "execution_count": 34,
   "id": "97a4f2d4",
   "metadata": {},
   "outputs": [
    {
     "data": {
      "text/plain": [
       "Year\n",
       "1995       NaN\n",
       "1996       NaN\n",
       "1997       NaN\n",
       "1998       NaN\n",
       "1999       NaN\n",
       "2000       NaN\n",
       "2001       0.0\n",
       "2002       0.0\n",
       "2003       0.0\n",
       "2004       0.0\n",
       "2005       0.0\n",
       "2006       0.0\n",
       "2007       0.0\n",
       "2008       0.0\n",
       "2009       0.0\n",
       "2010       0.0\n",
       "2011     790.0\n",
       "2012     774.0\n",
       "2013     740.0\n",
       "2014     692.0\n",
       "2015     763.0\n",
       "2016     795.0\n",
       "2017     868.0\n",
       "2018     898.0\n",
       "2019     974.0\n",
       "2020    1124.0\n",
       "Name: no_of_crimes, dtype: float64"
      ]
     },
     "execution_count": 34,
     "metadata": {},
     "output_type": "execute_result"
    }
   ],
   "source": [
    "### min no. of crimes per year\n",
    "\n",
    "london.groupby('Year').no_of_crimes.min()"
   ]
  },
  {
   "cell_type": "code",
   "execution_count": 35,
   "id": "4a3d06d0",
   "metadata": {},
   "outputs": [
    {
     "data": {
      "text/plain": [
       "[<matplotlib.lines.Line2D at 0x20a46077100>]"
      ]
     },
     "execution_count": 35,
     "metadata": {},
     "output_type": "execute_result"
    },
    {
     "data": {
      "image/png": "[encoded data removed]",
      "text/plain": [
       "<Figure size 640x480 with 1 Axes>"
      ]
     },
     "metadata": {},
     "output_type": "display_data"
    }
   ],
   "source": [
    "plt.plot(london.groupby('Year').no_of_crimes.min())"
   ]
  },
  {
   "cell_type": "code",
   "execution_count": 79,
   "id": "edda6d44",
   "metadata": {},
   "outputs": [
    {
     "data": {
      "text/plain": [
       "area\n",
       "barking and dagenham      2049.0\n",
       "barnet                    2893.0\n",
       "bexley                    1914.0\n",
       "brent                     2937.0\n",
       "bromley                   2637.0\n",
       "camden                    4558.0\n",
       "city of london              10.0\n",
       "croydon                   3263.0\n",
       "ealing                    3401.0\n",
       "east midlands                NaN\n",
       "east of england              NaN\n",
       "enfield                   2798.0\n",
       "england                      NaN\n",
       "greenwich                 2853.0\n",
       "hackney                   3466.0\n",
       "hammersmith and fulham    2645.0\n",
       "haringey                  3199.0\n",
       "harrow                    1763.0\n",
       "havering                  1956.0\n",
       "hillingdon                2819.0\n",
       "hounslow                  2817.0\n",
       "inner london                 NaN\n",
       "islington                 3384.0\n",
       "kensington and chelsea    2778.0\n",
       "kingston upon thames      1379.0\n",
       "lambeth                   4701.0\n",
       "lewisham                  2813.0\n",
       "london                       NaN\n",
       "merton                    1623.0\n",
       "newham                    3668.0\n",
       "north east                   NaN\n",
       "north west                   NaN\n",
       "outer london                 NaN\n",
       "redbridge                 2560.0\n",
       "richmond upon thames      1551.0\n",
       "south east                   NaN\n",
       "south west                   NaN\n",
       "southwark                 3821.0\n",
       "sutton                    1425.0\n",
       "tower hamlets             3316.0\n",
       "waltham forest            2941.0\n",
       "wandsworth                3051.0\n",
       "west midlands                NaN\n",
       "westminster               7461.0\n",
       "yorks and the humber         NaN\n",
       "Name: no_of_crimes, dtype: float64"
      ]
     },
     "execution_count": 79,
     "metadata": {},
     "output_type": "execute_result"
    }
   ],
   "source": [
    "### area wise crime record , Maximum crime reported per area \n",
    "london.groupby('area').no_of_crimes.max()"
   ]
  },
  {
   "cell_type": "code",
   "execution_count": 80,
   "id": "5313ba62",
   "metadata": {},
   "outputs": [
    {
     "data": {
      "text/plain": [
       "area\n",
       "barking and dagenham      1217.0\n",
       "barnet                    1703.0\n",
       "bexley                     860.0\n",
       "brent                     1850.0\n",
       "bromley                   1441.0\n",
       "camden                    2079.0\n",
       "city of london               0.0\n",
       "croydon                   2031.0\n",
       "ealing                    1871.0\n",
       "east midlands                NaN\n",
       "east of england              NaN\n",
       "enfield                   1635.0\n",
       "england                      NaN\n",
       "greenwich                 1513.0\n",
       "hackney                   1870.0\n",
       "hammersmith and fulham    1323.0\n",
       "haringey                  1536.0\n",
       "harrow                     937.0\n",
       "havering                  1130.0\n",
       "hillingdon                1445.0\n",
       "hounslow                  1529.0\n",
       "inner london                 NaN\n",
       "islington                 1871.0\n",
       "kensington and chelsea    1347.0\n",
       "kingston upon thames       692.0\n",
       "lambeth                   2381.0\n",
       "lewisham                  1675.0\n",
       "london                       NaN\n",
       "merton                     819.0\n",
       "newham                    2130.0\n",
       "north east                   NaN\n",
       "north west                   NaN\n",
       "outer london                 NaN\n",
       "redbridge                 1487.0\n",
       "richmond upon thames       700.0\n",
       "south east                   NaN\n",
       "south west                   NaN\n",
       "southwark                 2267.0\n",
       "sutton                     787.0\n",
       "tower hamlets             1646.0\n",
       "waltham forest            1575.0\n",
       "wandsworth                1582.0\n",
       "west midlands                NaN\n",
       "westminster               3504.0\n",
       "yorks and the humber         NaN\n",
       "Name: no_of_crimes, dtype: float64"
      ]
     },
     "execution_count": 80,
     "metadata": {},
     "output_type": "execute_result"
    }
   ],
   "source": [
    "### area wise crime record , Minimum crime reported per area \n",
    "london.groupby('area').no_of_crimes.min()"
   ]
  },
  {
   "cell_type": "code",
   "execution_count": 85,
   "id": "be9332f3",
   "metadata": {},
   "outputs": [
    {
     "data": {
      "text/plain": [
       "area\n",
       "barking and dagenham      1599.275109\n",
       "barnet                    2278.441048\n",
       "bexley                    1299.458515\n",
       "brent                     2415.602620\n",
       "bromley                   2020.131004\n",
       "camden                    3056.572052\n",
       "city of london               0.423423\n",
       "croydon                   2652.943231\n",
       "ealing                    2607.061135\n",
       "east midlands                     NaN\n",
       "east of england                   NaN\n",
       "enfield                   2077.921397\n",
       "england                           NaN\n",
       "greenwich                 2154.899563\n",
       "hackney                   2575.751092\n",
       "hammersmith and fulham    1914.676856\n",
       "haringey                  2406.427948\n",
       "harrow                    1256.598253\n",
       "havering                  1530.358079\n",
       "hillingdon                2141.768559\n",
       "hounslow                  2040.231441\n",
       "inner london                      NaN\n",
       "islington                 2515.991266\n",
       "kensington and chelsea    1833.222707\n",
       "kingston upon thames       991.790393\n",
       "lambeth                   3141.720524\n",
       "lewisham                  2296.458515\n",
       "london                            NaN\n",
       "merton                    1208.615721\n",
       "newham                    2851.432314\n",
       "north east                        NaN\n",
       "north west                        NaN\n",
       "outer london                      NaN\n",
       "redbridge                 1940.480349\n",
       "richmond upon thames      1041.620087\n",
       "south east                        NaN\n",
       "south west                        NaN\n",
       "southwark                 3028.563319\n",
       "sutton                    1078.213974\n",
       "tower hamlets             2542.253275\n",
       "waltham forest            2113.598253\n",
       "wandsworth                2209.716157\n",
       "west midlands                     NaN\n",
       "westminster               5291.454148\n",
       "yorks and the humber              NaN\n",
       "Name: no_of_crimes, dtype: float64"
      ]
     },
     "execution_count": 85,
     "metadata": {},
     "output_type": "execute_result"
    }
   ],
   "source": [
    "### average crime reported per area \n",
    "mean_crime=london.groupby('area').no_of_crimes.mean()\n",
    "mean_crime"
   ]
  },
  {
   "cell_type": "code",
   "execution_count": 87,
   "id": "ac9d160d",
   "metadata": {},
   "outputs": [
    {
     "data": {
      "text/plain": [
       "area\n",
       "westminster    5291.454148\n",
       "lambeth        3141.720524\n",
       "camden         3056.572052\n",
       "southwark      3028.563319\n",
       "newham         2851.432314\n",
       "Name: no_of_crimes, dtype: float64"
      ]
     },
     "execution_count": 87,
     "metadata": {},
     "output_type": "execute_result"
    }
   ],
   "source": [
    "### maximum average crime reported per area \n",
    "mean_crime.sort_values(ascending = False).head()"
   ]
  },
  {
   "cell_type": "code",
   "execution_count": 89,
   "id": "05add117",
   "metadata": {},
   "outputs": [
    {
     "data": {
      "text/plain": [
       "area\n",
       "merton                  1208.615721\n",
       "sutton                  1078.213974\n",
       "richmond upon thames    1041.620087\n",
       "kingston upon thames     991.790393\n",
       "city of london             0.423423\n",
       "Name: no_of_crimes, dtype: float64"
      ]
     },
     "execution_count": 89,
     "metadata": {},
     "output_type": "execute_result"
    }
   ],
   "source": [
    "### minimum average crime reported per area\n",
    "mean_crime=mean_crime.dropna()\n",
    "mean_crime.sort_values(ascending=False).tail()"
   ]
  },
  {
   "cell_type": "code",
   "execution_count": 37,
   "id": "c5e452d7",
   "metadata": {},
   "outputs": [
    {
     "data": {
      "text/plain": [
       "north east              112\n",
       "north west              111\n",
       "yorks and the humber    110\n",
       "east midlands            96\n",
       "west midlands            94\n",
       "england                  87\n",
       "barking and dagenham     85\n",
       "south west               78\n",
       "east of england          76\n",
       "newham                   72\n",
       "bexley                   64\n",
       "waltham forest           64\n",
       "lewisham                 62\n",
       "havering                 60\n",
       "south east               59\n",
       "greenwich                59\n",
       "croydon                  57\n",
       "enfield                  54\n",
       "sutton                   54\n",
       "hackney                  53\n",
       "redbridge                52\n",
       "southwark                48\n",
       "tower hamlets            47\n",
       "outer london             46\n",
       "hillingdon               44\n",
       "lambeth                  41\n",
       "hounslow                 41\n",
       "brent                    40\n",
       "london                   39\n",
       "merton                   35\n",
       "haringey                 33\n",
       "bromley                  33\n",
       "inner london             31\n",
       "ealing                   31\n",
       "kingston upon thames     30\n",
       "harrow                   30\n",
       "wandsworth               26\n",
       "barnet                   25\n",
       "islington                19\n",
       "city of london           11\n",
       "Name: area, dtype: int64"
      ]
     },
     "execution_count": 37,
     "metadata": {},
     "output_type": "execute_result"
    }
   ],
   "source": [
    "### show the total count of records of each area , where average price is less than 100000\n",
    "\n",
    "london[london['average_price'] < 100000].area.value_counts()"
   ]
  },
  {
   "cell_type": "code",
   "execution_count": null,
   "id": "5800a2aa",
   "metadata": {},
   "outputs": [],
   "source": []
  },
  {
   "cell_type": "code",
   "execution_count": null,
   "id": "408dea99",
   "metadata": {},
   "outputs": [],
   "source": []
  }
 ],
 "metadata": {
  "kernelspec": {
   "display_name": "Python 3 (ipykernel)",
   "language": "python",
   "name": "python3"
  },
  "language_info": {
   "codemirror_mode": {
    "name": "ipython",
    "version": 3
   },
   "file_extension": ".py",
   "mimetype": "text/x-python",
   "name": "python",
   "nbconvert_exporter": "python",
   "pygments_lexer": "ipython3",
   "version": "3.9.13"
  }
 },
 "nbformat": 4,
 "nbformat_minor": 5
}
